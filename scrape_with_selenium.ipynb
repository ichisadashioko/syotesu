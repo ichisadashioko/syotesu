{
 "cells": [
  {
   "cell_type": "code",
   "execution_count": 1,
   "metadata": {},
   "outputs": [],
   "source": [
    "import os\n",
    "import re\n",
    "import time\n",
    "\n",
    "import matplotlib.pyplot as plt\n",
    "from tqdm import tqdm\n",
    "\n",
    "from selenium import webdriver\n",
    "from bs4 import BeautifulSoup\n",
    "import pandas as pd"
   ]
  },
  {
   "cell_type": "code",
   "execution_count": 2,
   "metadata": {},
   "outputs": [
    {
     "name": "stderr",
     "output_type": "stream",
     "text": [
      "c:\\users\\shioko\\appdata\\local\\programs\\python\\python37\\lib\\site-packages\\ipykernel_launcher.py:3: DeprecationWarning: use options instead of chrome_options\n",
      "  This is separate from the ipykernel package so we can avoid doing imports until\n"
     ]
    }
   ],
   "source": [
    "options = webdriver.ChromeOptions()\n",
    "options.add_extension('./chrome_exts/css_block.crx')\n",
    "driver = webdriver.Chrome(chrome_options=options)\n",
    "# driver = webdriver.Chrome('D:/chromedriver_win32/chromedriver.exe')\n",
    "# go to this site to disable javascipt, images, etc.\n",
    "driver.get('https://ncode.syosetu.com/n7756cy/')"
   ]
  },
  {
   "cell_type": "code",
   "execution_count": 3,
   "metadata": {},
   "outputs": [],
   "source": [
    "def normalize_filename(path):\n",
    "    return re.sub(r'[:/]+', '_', path)"
   ]
  },
  {
   "cell_type": "code",
   "execution_count": 3,
   "metadata": {},
   "outputs": [],
   "source": [
    "base_url = 'https://ncode.syosetu.com'\n",
    "\n",
    "def split_syosetu_url(url):\n",
    "    # 'https://ncode.syosetu.com/n7756cy/'\n",
    "    # ['https:', 'ncode.syosetu.com', 'n7756cy']\n",
    "    url_comps = url.split('/')\n",
    "    url_comps = [x for x in url_comps if x != '']\n",
    "    return url_comps\n",
    "\n",
    "def dl_html(url, path):\n",
    "    driver.get(url)\n",
    "    content = driver.page_source\n",
    "    with open(path, mode='w', encoding='utf-8') as outf:\n",
    "        outf.write(content)\n",
    "\n",
    "def dl_chapter(url, save_dir='syosetu'):\n",
    "    url_comps = split_syosetu_url(url)\n",
    "    novel_id = url_comps[2]\n",
    "    chap_num = url_comps[3]\n",
    "    novel_dir = f'{save_dir}/{novel_id}'\n",
    "    if not os.path.exists(novel_dir):\n",
    "        os.makedirs(novel_dir)\n",
    "    \n",
    "    chap_path = f'{novel_dir}/{chap_num}.html'\n",
    "    if not os.path.exists(chap_path):\n",
    "        dl_html(url, chap_path)\n",
    "\n",
    "def dl_syosetu(url, save_dir='syosetu', dl_chapters=True):\n",
    "    url_comps = split_syosetu_url(url)\n",
    "    novel_id = url_comps[2]\n",
    "    novel_dir = f'{save_dir}/{novel_id}'\n",
    "    if not os.path.exists(novel_dir):\n",
    "        os.makedirs(novel_dir)\n",
    "    hp_path = f'{novel_dir}/index.html'\n",
    "    if not os.path.exists(hp_path):\n",
    "        dl_html(url, hp_path)\n",
    "    \n",
    "    if dl_chapters:\n",
    "        with open(hp_path, 'r', encoding='utf-8') as inpf:\n",
    "            content = inpf.read()\n",
    "\n",
    "        soup = BeautifulSoup(content)\n",
    "        chap_div_list = soup.find_all(attrs={'class': 'novel_sublist2'})\n",
    "        for chap_div in tqdm(chap_div_list):\n",
    "            chap_anchor = chap_div.find('a')\n",
    "            chap_url = base_url + chap_anchor.attrs['href']\n",
    "            dl_chapter(chap_url, save_dir=save_dir)"
   ]
  },
  {
   "cell_type": "code",
   "execution_count": 5,
   "metadata": {
    "scrolled": false
   },
   "outputs": [
    {
     "name": "stderr",
     "output_type": "stream",
     "text": [
      "100%|████████████████████████████████████████████████████████████████████████████████| 501/501 [02:15<00:00,  3.08it/s]\n"
     ]
    }
   ],
   "source": [
    "# novel_url = 'https://ncode.syosetu.com/n7756cy/' # 異世界建国記\n",
    "# novel_url = 'http://ncode.syosetu.com/n1961bm/' # 女の子、買いました\n",
    "# novel_url = 'https://ncode.syosetu.com/n7500bd/' # 異世界チート魔術師（マジシャン）\n",
    "# novel_url = 'https://ncode.syosetu.com/n4701bu/' # 捨てられ勇者は帰宅中～隠しスキルで異世界を駆け抜ける\n",
    "# novel_url = 'https://ncode.syosetu.com/n1094bz/' # 精霊幻想記\n",
    "# novel_url = 'http://ncode.syosetu.com/n1443bp/' # 異世界はスマートフォンとともに\n",
    "\n",
    "dl_syosetu(novel_url)"
   ]
  },
  {
   "cell_type": "code",
   "execution_count": 8,
   "metadata": {},
   "outputs": [],
   "source": [
    "novel_list = [\n",
    "    'https://ncode.syosetu.com/n7756cy/', # 異世界建国記\n",
    "    'http://ncode.syosetu.com/n1961bm/', # 女の子、買いました\n",
    "    'https://ncode.syosetu.com/n7500bd/', # 異世界チート魔術師（マジシャン）\n",
    "    'https://ncode.syosetu.com/n4701bu/', # 捨てられ勇者は帰宅中～隠しスキルで異世界を駆け抜ける\n",
    "    'https://ncode.syosetu.com/n1094bz/', # 精霊幻想記\n",
    "    'http://ncode.syosetu.com/n1443bp/', # 異世界はスマートフォンとともに\n",
    "    'https://ncode.syosetu.com/n3275cf/', # 俺の幼馴染は女子高生で異世界の勇者なんだがそれだけじゃないっぽい\n",
    "    'https://ncode.syosetu.com/n8611bv/', # ありふれた職業で世界最強\n",
    "    'https://ncode.syosetu.com/n1222ci/', # 黒の召喚士\n",
    "    'https://ncode.syosetu.com/n6312de/', # 転生勇者の成り上がり\n",
    "    'https://ncode.syosetu.com/n7031bs/', # 金色の文字使い\n",
    "]"
   ]
  },
  {
   "cell_type": "code",
   "execution_count": 9,
   "metadata": {},
   "outputs": [
    {
     "name": "stdout",
     "output_type": "stream",
     "text": [
      "https://ncode.syosetu.com/n7756cy/\n"
     ]
    },
    {
     "name": "stderr",
     "output_type": "stream",
     "text": [
      "100%|██████████████████████████████████████████████████████████████████████████████| 305/305 [00:00<00:00, 1282.04it/s]\n"
     ]
    },
    {
     "name": "stdout",
     "output_type": "stream",
     "text": [
      "http://ncode.syosetu.com/n1961bm/\n"
     ]
    },
    {
     "name": "stderr",
     "output_type": "stream",
     "text": [
      "100%|████████████████████████████████████████████████████████████████████████████████| 91/91 [00:00<00:00, 1210.90it/s]\n"
     ]
    },
    {
     "name": "stdout",
     "output_type": "stream",
     "text": [
      "https://ncode.syosetu.com/n7500bd/\n"
     ]
    },
    {
     "name": "stderr",
     "output_type": "stream",
     "text": [
      "100%|██████████████████████████████████████████████████████████████████████████████| 149/149 [00:00<00:00, 1025.30it/s]\n"
     ]
    },
    {
     "name": "stdout",
     "output_type": "stream",
     "text": [
      "https://ncode.syosetu.com/n4701bu/\n"
     ]
    },
    {
     "name": "stderr",
     "output_type": "stream",
     "text": [
      "100%|████████████████████████████████████████████████████████████████████████████████| 66/66 [00:00<00:00, 2182.12it/s]\n"
     ]
    },
    {
     "name": "stdout",
     "output_type": "stream",
     "text": [
      "https://ncode.syosetu.com/n1094bz/\n"
     ]
    },
    {
     "name": "stderr",
     "output_type": "stream",
     "text": [
      "100%|██████████████████████████████████████████████████████████████████████████████| 206/206 [00:00<00:00, 1762.30it/s]\n"
     ]
    },
    {
     "name": "stdout",
     "output_type": "stream",
     "text": [
      "http://ncode.syosetu.com/n1443bp/\n"
     ]
    },
    {
     "name": "stderr",
     "output_type": "stream",
     "text": [
      "100%|██████████████████████████████████████████████████████████████████████████████| 501/501 [00:00<00:00, 1730.88it/s]\n"
     ]
    },
    {
     "name": "stdout",
     "output_type": "stream",
     "text": [
      "https://ncode.syosetu.com/n3275cf/\n"
     ]
    },
    {
     "name": "stderr",
     "output_type": "stream",
     "text": [
      "100%|████████████████████████████████████████████████████████████████████████████████| 87/87 [00:00<00:00, 1221.09it/s]\n"
     ]
    },
    {
     "name": "stdout",
     "output_type": "stream",
     "text": [
      "https://ncode.syosetu.com/n8611bv/\n"
     ]
    },
    {
     "name": "stderr",
     "output_type": "stream",
     "text": [
      "100%|██████████████████████████████████████████████████████████████████████████████| 358/358 [00:00<00:00, 2072.36it/s]\n"
     ]
    },
    {
     "name": "stdout",
     "output_type": "stream",
     "text": [
      "https://ncode.syosetu.com/n1222ci/\n"
     ]
    },
    {
     "name": "stderr",
     "output_type": "stream",
     "text": [
      "100%|██████████████████████████████████████████████████████████████████████████████| 634/634 [00:00<00:00, 1690.59it/s]\n"
     ]
    },
    {
     "name": "stdout",
     "output_type": "stream",
     "text": [
      "https://ncode.syosetu.com/n6312de/\n"
     ]
    },
    {
     "name": "stderr",
     "output_type": "stream",
     "text": [
      "100%|██████████████████████████████████████████████████████████████████████████████| 119/119 [00:00<00:00, 3048.13it/s]\n"
     ]
    },
    {
     "name": "stdout",
     "output_type": "stream",
     "text": [
      "https://ncode.syosetu.com/n7031bs/\n"
     ]
    },
    {
     "name": "stderr",
     "output_type": "stream",
     "text": [
      "100%|████████████████████████████████████████████████████████████████████████████████| 838/838 [05:40<00:00,  2.03it/s]\n"
     ]
    }
   ],
   "source": [
    "for novel_url in novel_list:\n",
    "    print(novel_url)\n",
    "    dl_syosetu(novel_url)"
   ]
  }
 ],
 "metadata": {
  "kernelspec": {
   "display_name": "Python 3",
   "language": "python",
   "name": "python3"
  },
  "language_info": {
   "codemirror_mode": {
    "name": "ipython",
    "version": 3
   },
   "file_extension": ".py",
   "mimetype": "text/x-python",
   "name": "python",
   "nbconvert_exporter": "python",
   "pygments_lexer": "ipython3",
   "version": "3.7.3"
  }
 },
 "nbformat": 4,
 "nbformat_minor": 2
}
